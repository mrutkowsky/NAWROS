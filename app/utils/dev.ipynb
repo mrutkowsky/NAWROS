{
 "cells": [
  {
   "cell_type": "code",
   "execution_count": 1,
   "metadata": {},
   "outputs": [],
   "source": [
    "import os\n",
    "import numpy as np\n",
    "import pandas as pd"
   ]
  },
  {
   "cell_type": "code",
   "execution_count": 8,
   "metadata": {},
   "outputs": [
    {
     "name": "stdout",
     "output_type": "stream",
     "text": [
      "2198\n"
     ]
    },
    {
     "ename": "AttributeError",
     "evalue": "'tuple' object has no attribute 'head'",
     "output_type": "error",
     "traceback": [
      "\u001b[0;31m---------------------------------------------------------------------------\u001b[0m",
      "\u001b[0;31mAttributeError\u001b[0m                            Traceback (most recent call last)",
      "Cell \u001b[0;32mIn[8], line 21\u001b[0m\n\u001b[1;32m     19\u001b[0m data \u001b[39m=\u001b[39m pd\u001b[39m.\u001b[39mread_excel(\u001b[39m\"\u001b[39m\u001b[39m/home/stefan/PWr/ZPI/narwos-nlp/narwos/data/sample/VOC_for_NLP.xlsx\u001b[39m\u001b[39m\"\u001b[39m, usecols\u001b[39m=\u001b[39m[\u001b[39m\"\u001b[39m\u001b[39mcontent\u001b[39m\u001b[39m\"\u001b[39m])\n\u001b[1;32m     20\u001b[0m \u001b[39mprint\u001b[39m(\u001b[39mlen\u001b[39m(data))\n\u001b[0;32m---> 21\u001b[0m data \u001b[39m=\u001b[39m cleanup_data(data, \u001b[39m\"\u001b[39;49m\u001b[39mVOC_for_NLP.xlsx\u001b[39;49m\u001b[39m\"\u001b[39;49m)\n\u001b[1;32m     22\u001b[0m \u001b[39mprint\u001b[39m(\u001b[39mlen\u001b[39m(data))\n",
      "Cell \u001b[0;32mIn[8], line 8\u001b[0m, in \u001b[0;36mcleanup_data\u001b[0;34m(df, filename)\u001b[0m\n\u001b[1;32m      6\u001b[0m EMPTY_CONTENTS_SUFFIX \u001b[39m=\u001b[39m \u001b[39m'\u001b[39m\u001b[39m_EMPTY_CONTENTS\u001b[39m\u001b[39m'\u001b[39m\n\u001b[1;32m      7\u001b[0m empty_contents_indexes \u001b[39m=\u001b[39m np\u001b[39m.\u001b[39mwhere(df[\u001b[39m'\u001b[39m\u001b[39mcontent\u001b[39m\u001b[39m'\u001b[39m]\u001b[39m.\u001b[39mapply(\u001b[39mlambda\u001b[39;00m x: \u001b[39mnot\u001b[39;00m \u001b[39misinstance\u001b[39m(x, \u001b[39mstr\u001b[39m)))[\u001b[39m0\u001b[39m]\n\u001b[0;32m----> 8\u001b[0m \u001b[39mprint\u001b[39m(os\u001b[39m.\u001b[39;49mpath\u001b[39m.\u001b[39;49msplit(filename)\u001b[39m.\u001b[39;49mhead())\n\u001b[1;32m      9\u001b[0m df\u001b[39m.\u001b[39miloc[empty_contents_indexes]\u001b[39m.\u001b[39mto_csv(\n\u001b[1;32m     10\u001b[0m     path_or_buf\u001b[39m=\u001b[39m\u001b[39mf\u001b[39m\u001b[39m'\u001b[39m\u001b[39m{\u001b[39;00mos\u001b[39m.\u001b[39mpath\u001b[39m.\u001b[39msplit(filename)[\u001b[39m-\u001b[39m\u001b[39m2\u001b[39m]\u001b[39m}\u001b[39;00m\u001b[39m{\u001b[39;00mEMPTY_CONTENTS_SUFFIX\u001b[39m}\u001b[39;00m\u001b[39m{\u001b[39;00mEXT\u001b[39m}\u001b[39;00m\u001b[39m'\u001b[39m,\n\u001b[1;32m     11\u001b[0m     index\u001b[39m=\u001b[39m\u001b[39mTrue\u001b[39;00m)\n\u001b[1;32m     13\u001b[0m df\u001b[39m.\u001b[39mdrop(index\u001b[39m=\u001b[39mempty_contents_indexes, inplace\u001b[39m=\u001b[39m\u001b[39mTrue\u001b[39;00m)\n",
      "\u001b[0;31mAttributeError\u001b[0m: 'tuple' object has no attribute 'head'"
     ]
    }
   ],
   "source": [
    "def cleanup_data(df: pd.DataFrame, filename: str) -> pd.DataFrame:\n",
    "    \"\"\"\n",
    "    Remove rows with empty contents and save them to a separate file.\n",
    "    \"\"\"\n",
    "    EXT = '.csv'\n",
    "    EMPTY_CONTENTS_SUFFIX = '_EMPTY_CONTENTS'\n",
    "    empty_contents_indexes = np.where(df['content'].apply(lambda x: not isinstance(x, str)))[0]\n",
    "\n",
    "    save_path = os.path.join(DATA_FOLDER, EMPTY_CONTENT_FOLDER,\n",
    "         f'{filename.split(\".\")[-2]}{EMPTY_CONTENTS_SUFFIX}{EXT}')\n",
    "\n",
    "    df.iloc[empty_contents_indexes].to_csv(\n",
    "        path_or_buf=save_path,\n",
    "        index=True)\n",
    "  \n",
    "    df.drop(index=empty_contents_indexes, inplace=True)\n",
    "\n",
    "    return df\n",
    "\n",
    "\n",
    "\n",
    "data = pd.read_excel(\"/home/stefan/PWr/ZPI/narwos-nlp/narwos/data/sample/VOC_for_NLP.xlsx\", usecols=[\"content\"])\n",
    "print(len(data))\n",
    "data = cleanup_data(data, \"VOC_for_NLP.xlsx\")\n",
    "print(len(data))\n"
   ]
  },
  {
   "cell_type": "code",
   "execution_count": 11,
   "metadata": {},
   "outputs": [
    {
     "data": {
      "text/plain": [
       "'VOC_for_NLP'"
      ]
     },
     "execution_count": 11,
     "metadata": {},
     "output_type": "execute_result"
    }
   ],
   "source": [
    "\"VOC_for_NLP.xlsx\".split('.')[-2]"
   ]
  },
  {
   "cell_type": "code",
   "execution_count": null,
   "metadata": {},
   "outputs": [],
   "source": []
  }
 ],
 "metadata": {
  "kernelspec": {
   "display_name": "samsung-venv",
   "language": "python",
   "name": "python3"
  },
  "language_info": {
   "codemirror_mode": {
    "name": "ipython",
    "version": 3
   },
   "file_extension": ".py",
   "mimetype": "text/x-python",
   "name": "python",
   "nbconvert_exporter": "python",
   "pygments_lexer": "ipython3",
   "version": "3.10.6"
  },
  "orig_nbformat": 4,
  "vscode": {
   "interpreter": {
    "hash": "e45c6efbcd79cd7473ed712f971cb7abd2c2692e182cafe90473b71e016b4287"
   }
  }
 },
 "nbformat": 4,
 "nbformat_minor": 2
}
